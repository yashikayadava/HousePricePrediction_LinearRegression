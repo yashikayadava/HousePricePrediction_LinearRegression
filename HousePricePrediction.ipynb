{
 "cells": [
  {
   "cell_type": "code",
   "execution_count": 1,
   "id": "69216b1f",
   "metadata": {},
   "outputs": [
    {
     "name": "stdout",
     "output_type": "stream",
     "text": [
      "    area   price\n",
      "0   8450  208500\n",
      "1   9600  181500\n",
      "2  11250  223500\n",
      "3   9550  140000\n",
      "4  14260  250000\n",
      "5  14115  143000\n",
      "6  10084  307000\n",
      "7  10382  200000\n",
      "8   6120  129900\n",
      "9   7420  118000\n",
      "                area          price\n",
      "count    1460.000000    1460.000000\n",
      "mean    10516.828082  180921.195890\n",
      "std      9981.264932   79442.502883\n",
      "min      1300.000000   34900.000000\n",
      "25%      7553.500000  129975.000000\n",
      "50%      9478.500000  163000.000000\n",
      "75%     11601.500000  214000.000000\n",
      "max    215245.000000  755000.000000\n",
      "area     0\n",
      "price    0\n",
      "dtype: int64\n",
      "Accuracy: 74396.83061110749\n"
     ]
    },
    {
     "name": "stderr",
     "output_type": "stream",
     "text": [
      "C:\\Users\\Yashika\\AppData\\Local\\Temp\\ipykernel_18832\\2474811756.py:12: FutureWarning: In a future version of pandas all arguments of DataFrame.drop except for the argument 'labels' will be keyword-only.\n",
      "  area=data.drop('price','columns')\n",
      "C:\\Users\\Yashika\\AppData\\Local\\Temp\\ipykernel_18832\\2474811756.py:13: FutureWarning: In a future version of pandas all arguments of DataFrame.drop except for the argument 'labels' will be keyword-only.\n",
      "  price=data.drop('area','columns')\n"
     ]
    },
    {
     "data": {
      "image/png": "[encoded data removed]",
      "text/plain": [
       "<Figure size 432x288 with 1 Axes>"
      ]
     },
     "metadata": {
      "needs_background": "light"
     },
     "output_type": "display_data"
    }
   ],
   "source": [
    "import pandas as pd\n",
    "import numpy as np\n",
    "import matplotlib.pyplot as plt\n",
    "from sklearn.linear_model import LinearRegression\n",
    "from sklearn.model_selection import train_test_split\n",
    "from sklearn.metrics import mean_squared_error\n",
    "path=\"C:/Users/Yashika/Desktop/Karunadu Technology/Linear_MultipleRegression/HousePricePredictionusing_LinearRegression/dataset.csv\"\n",
    "data=pd.read_csv(path)\n",
    "print(data.head(10))\n",
    "print(data.describe())\n",
    "print(data.isna().sum())\n",
    "area=data.drop('price','columns')\n",
    "price=data.drop('area','columns')\n",
    "plt.scatter(x=area,y=price)\n",
    "plt.xlabel(\"Area\")\n",
    "plt.ylabel(\"Price\")\n",
    "x_train,x_test,y_train,y_test=train_test_split(area,price,test_size=0.3)\n",
    "model=LinearRegression()\n",
    "model.fit(x_train,y_train)\n",
    "y_pred=model.predict(x_test)\n",
    "print(\"Accuracy:\",np.sqrt(mean_squared_error(y_test,y_pred)))"
   ]
  },
  {
   "cell_type": "code",
   "execution_count": 2,
   "id": "69cd730d",
   "metadata": {},
   "outputs": [
    {
     "name": "stderr",
     "output_type": "stream",
     "text": [
      "C:\\Users\\Yashika\\anaconda3\\lib\\site-packages\\sklearn\\base.py:450: UserWarning: X does not have valid feature names, but LinearRegression was fitted with feature names\n",
      "  warnings.warn(\n"
     ]
    },
    {
     "ename": "SystemExit",
     "evalue": "0",
     "output_type": "error",
     "traceback": [
      "An exception has occurred, use %tb to see the full traceback.\n",
      "\u001b[1;31mSystemExit\u001b[0m\u001b[1;31m:\u001b[0m 0\n"
     ]
    },
    {
     "name": "stderr",
     "output_type": "stream",
     "text": [
      "C:\\Users\\Yashika\\anaconda3\\lib\\site-packages\\IPython\\core\\interactiveshell.py:3377: UserWarning: To exit: use 'exit', 'quit', or Ctrl-D.\n",
      "  warn(\"To exit: use 'exit', 'quit', or Ctrl-D.\", stacklevel=1)\n"
     ]
    }
   ],
   "source": [
    "# -*- coding: utf-8 -*-\n",
    "\n",
    "# Form implementation generated from reading ui file 'houseprice.ui'\n",
    "#\n",
    "# Created by: PyQt5 UI code generator 5.15.4\n",
    "#\n",
    "# WARNING: Any manual changes made to this file will be lost when pyuic5 is\n",
    "# run again.  Do not edit this file unless you know what you are doing.\n",
    "\n",
    "\n",
    "from PyQt5 import QtCore, QtGui, QtWidgets\n",
    "\n",
    "\n",
    "class Ui_Form(object):\n",
    "    def setupUi(self, Form):\n",
    "        Form.setObjectName(\"Form\")\n",
    "        Form.resize(420, 376)\n",
    "        Form.setStyleSheet(\"background-color: rgb(200, 188, 192);\")\n",
    "        self.label = QtWidgets.QLabel(Form)\n",
    "        self.label.setGeometry(QtCore.QRect(70, 20, 291, 31))\n",
    "        self.label.setStyleSheet(\"font: 75 18pt \\\"Script MT Bold\\\";\\n\"\n",
    "\"text-decoration: underline;\\n\"\n",
    "\"\")\n",
    "        self.label.setObjectName(\"label\")\n",
    "        self.label_2 = QtWidgets.QLabel(Form)\n",
    "        self.label_2.setGeometry(QtCore.QRect(50, 120, 51, 16))\n",
    "        self.label_2.setStyleSheet(\"font: italic 14pt \\\"Monotype Corsiva\\\";\")\n",
    "        self.label_2.setObjectName(\"label_2\")\n",
    "        self.area = QtWidgets.QLineEdit(Form)\n",
    "        self.area.setGeometry(QtCore.QRect(160, 110, 201, 31))\n",
    "        self.area.setStyleSheet(\"background-color: rgb(255, 255, 255);\")\n",
    "        self.area.setObjectName(\"area\")\n",
    "        self.pushButton = QtWidgets.QPushButton(Form)\n",
    "        self.pushButton.setGeometry(QtCore.QRect(130, 200, 93, 28))\n",
    "        self.pushButton.setStyleSheet(\"font: 81 8pt \\\"Rockwell Extra Bold\\\";\\n\"\n",
    "\"background-color: rgb(255, 193, 185);\")\n",
    "        self.pushButton.setObjectName(\"pushButton\")\n",
    "        self.label_3 = QtWidgets.QLabel(Form)\n",
    "        self.label_3.setGeometry(QtCore.QRect(60, 290, 55, 16))\n",
    "        self.label_3.setStyleSheet(\"font: 57 12pt \\\"Dubai Medium\\\";\")\n",
    "        self.label_3.setObjectName(\"label_3\")\n",
    "        self.price = QtWidgets.QLabel(Form)\n",
    "        self.price.setGeometry(QtCore.QRect(120, 290, 201, 21))\n",
    "        self.price.setStyleSheet(\"font: 75 14pt \\\"MS Serif\\\";\")\n",
    "        self.price.setText(\"\")\n",
    "        self.price.setObjectName(\"price\")\n",
    "       \n",
    "        self.retranslateUi(Form)\n",
    "        QtCore.QMetaObject.connectSlotsByName(Form)\n",
    "        self.pushButton.clicked.connect(self.funcs)\n",
    "    def funcs(self):\n",
    "        ar=self.area.text()\n",
    "        ar=int(ar)\n",
    "        ypred=model.predict([[ar]])\n",
    "        self.price.setText(str(ypred[0][0]))\n",
    "\n",
    "    def retranslateUi(self, Form):\n",
    "        _translate = QtCore.QCoreApplication.translate\n",
    "        Form.setWindowTitle(_translate(\"Form\", \"House Price Prediction_Linear Regression\"))\n",
    "        self.label.setText(_translate(\"Form\", \"House Price Prediction\"))\n",
    "        self.label_2.setText(_translate(\"Form\", \"Area :\"))\n",
    "        self.pushButton.setText(_translate(\"Form\", \"Predict\"))\n",
    "        self.label_3.setText(_translate(\"Form\", \"Price :\"))\n",
    "\n",
    "\n",
    "if __name__ == \"__main__\":\n",
    "    import sys\n",
    "    app = QtWidgets.QApplication(sys.argv)\n",
    "    Form = QtWidgets.QWidget()\n",
    "    ui = Ui_Form()\n",
    "    ui.setupUi(Form)\n",
    "    Form.show()\n",
    "    sys.exit(app.exec_())\n"
   ]
  },
  {
   "cell_type": "code",
   "execution_count": null,
   "id": "1cf1ef4b",
   "metadata": {},
   "outputs": [],
   "source": []
  }
 ],
 "metadata": {
  "kernelspec": {
   "display_name": "Python 3 (ipykernel)",
   "language": "python",
   "name": "python3"
  },
  "language_info": {
   "codemirror_mode": {
    "name": "ipython",
    "version": 3
   },
   "file_extension": ".py",
   "mimetype": "text/x-python",
   "name": "python",
   "nbconvert_exporter": "python",
   "pygments_lexer": "ipython3",
   "version": "3.9.12"
  }
 },
 "nbformat": 4,
 "nbformat_minor": 5
}
